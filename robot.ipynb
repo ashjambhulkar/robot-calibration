{
 "cells": [
  {
   "cell_type": "code",
   "execution_count": 2,
   "metadata": {},
   "outputs": [],
   "source": [
    "#loading and importing the data we need\n",
    "import pandas as pd\n",
    "import numpy as np\n",
    "import matplotlib\n",
    "import matplotlib.pyplot as plt\n",
    "%matplotlib inline"
   ]
  },
  {
   "cell_type": "code",
   "execution_count": null,
   "metadata": {},
   "outputs": [],
   "source": [
    "names =[\n",
    " 't', # Time (secs)\n",
    " 'q1', 'q2', 'q3', # Joint angle (rads)\n",
    " 'dq1', 'dq2', 'dq3', # Joint velocity (rads/sec)\n",
    " 'I1', 'I2', 'I3', # Motor current (A)\n",
    " 'eps21', 'eps22', 'eps31', 'eps32', # Strain gauge measurements\n",
    " ($\\mu$m /m )\n",
    " 'ddq1', 'ddq2', 'ddq3' # Joint accelerations (rad/sec^2)\n",
    "]\n",
    "df = pd.read_csv('exp1.csv',index_col=0,names=names,na_values='?')"
   ]
  },
  {
   "cell_type": "code",
   "execution_count": null,
   "metadata": {},
   "outputs": [],
   "source": [
    "df.head(6)"
   ]
  },
  {
   "cell_type": "code",
   "execution_count": null,
   "metadata": {},
   "outputs": [],
   "source": [
    "y = df['I2']\n",
    "t = df.index.values\n",
    "plt.plot(t,y)\n",
    "plt.xlabel('Time')\n",
    "plt.ylabel('I2')\n",
    "plt.legend(['I2'])\n",
    "plt.show()"
   ]
  },
  {
   "cell_type": "code",
   "execution_count": null,
   "metadata": {},
   "outputs": [],
   "source": [
    "ytrain = df['I2']\n",
    "Xtrain = df[['q2','dq2','eps21', 'eps22', 'eps31', 'eps32','ddq2']]"
   ]
  },
  {
   "cell_type": "code",
   "execution_count": null,
   "metadata": {},
   "outputs": [],
   "source": [
    "from sklearn import linear_model\n",
    "regr = linear_model.LinearRegression()"
   ]
  },
  {
   "cell_type": "code",
   "execution_count": null,
   "metadata": {},
   "outputs": [],
   "source": [
    "regr.fit(Xtrain,ytrain)"
   ]
  },
  {
   "cell_type": "code",
   "execution_count": null,
   "metadata": {},
   "outputs": [],
   "source": [
    "ytrain_pred = regr.predict(Xtrain) #storing predictions in a vector\n",
    "t =df.index.values #extracting time indices into t\n",
    "y = df['I2']\n",
    "plt.plot(t,y)\n",
    "plt.plot(t,ytrain_pred)\n",
    "plt.xlabel('Time')\n",
    "plt.ylabel('I2')\n",
    "plt.legend(['Actual ytrain','Predicted ytrain'])\n",
    "plt.show()"
   ]
  },
  {
   "cell_type": "code",
   "execution_count": null,
   "metadata": {},
   "outputs": [],
   "source": [
    "n = len(t) #number of training examples\n",
    "y_np = np.array(y) #converting to a numpy array\n",
    "y_pred_np = np.array(ytrain_pred) #converting to a numpy array\n",
    "var = np.var(y_np) #variance of the training set labels\n",
    "RSS_train = np.mean((y-y_pred_np)**2)/var #normalized RSS for the traini\n",
    "ng set\n",
    "print(' Normalized RSS for training set: ' +str(RSS_train))"
   ]
  },
  {
   "cell_type": "code",
   "execution_count": null,
   "metadata": {},
   "outputs": [],
   "source": [
    "df2 = pd.read_csv('exp2.csv',\n",
    " index_col=0,names=names,na_values='?')\n",
    "df2.head(6)\n",
    "t2 =df2.index.values\n",
    "y2 = df2['I2']\n",
    "ytest = df2['I2']\n",
    "Xtest = df2[['q2','dq2','eps21', 'eps22', 'eps31', 'eps32','ddq2']]\n",
    "I2_test_predict = regr.predict(Xtest)\n",
    "plt.plot(t2,y2)\n",
    "plt.plot(t2,I2_test_predict)\n",
    "plt.xlabel('Time')\n",
    "plt.ylabel('I2_test')\n",
    "plt.legend(['Actual I2_test','Predicted I2_test'])\n",
    "plt.show()"
   ]
  },
  {
   "cell_type": "code",
   "execution_count": null,
   "metadata": {},
   "outputs": [],
   "source": [
    "var = np.var(ytest)\n",
    "RSS_test = np.mean((ytest-I2_test_predict)**2)/var\n",
    "print('Normalized RSS : ' + str(RSS_test) + \"\\n\")\n",
    "RSS_diff = RSS_test - RSS_train\n",
    "print('The normalized RSS for the test set is higher than the normalized\n",
    " RSS for the training set by ' + str(RSS_diff))"
   ]
  }
 ],
 "metadata": {
  "language_info": {
   "codemirror_mode": {
    "name": "ipython",
    "version": 3
   },
   "file_extension": ".py",
   "mimetype": "text/x-python",
   "name": "python",
   "nbconvert_exporter": "python",
   "pygments_lexer": "ipython3",
   "version": 3
  },
  "orig_nbformat": 2,
  "kernelspec": {
   "name": "python_defaultSpec_1594145370830",
   "display_name": "Python 3.7.3 64-bit"
  }
 },
 "nbformat": 4,
 "nbformat_minor": 2
}